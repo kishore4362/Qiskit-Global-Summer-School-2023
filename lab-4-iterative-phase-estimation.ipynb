{
 "cells": [
  {
   "cell_type": "markdown",
   "metadata": {},
   "source": [
    "# IBM's Qiskit Global Summer School 2023\n",
    "## Lab 4 - Iterative Phase Estimation\n",
    "\n",
    "- In this lab, you'll implement a simple version of the iterative phase estimation algorithm. Using the recently introduced dynamic circuits capabilities, you'll be able to run the algorithm on an IBM quantum processor! This lab was adapted from the IBM Quantum Spring Challenge 2023, so if you participated in that challenge, it may look familiar. To encourage you to review the lab nevertheless, we added an extra exercise at the end."
   ]
  },
  {
   "cell_type": "markdown",
   "metadata": {},
   "source": [
    "## Background\n",
    "\n",
    "The quantum phase estimation (QPE) algorithm is one of the most important and famous quantum algorithms. It is a key subroutine of Shor's factoring algorithm, as well as algorithms for quantum simulation. The textbook version of the algorithm uses a number of auxiliary qubits which scales with the desired precision, leading to circuits that are challenging to execute on today's noisy devices with limited qubit number and connectivity.\n",
    "\n",
    "Iterative phase estimation (IPE) is a variant of QPE which requires only one auxiliary qubit. In IPE, the auxiliary qubit is repeatedly measured, with the measurement results used to guide future quantum operations. Such classical feed-forward was previously impossible to execute on IBM's quantum processors, but with the recently introduced dynamic circuits capabilities, it is now possible.\n",
    "\n",
    "Like any phase estimation algorithm, IPE is designed to solve the following problem:\n",
    "\n",
    "**Problem statement:** Given a unitary matrix $U$ and an eigenstate $|\\Psi\\rangle$ of $U$ with an unknown eigenvalue $e^{i 2\\pi \\varphi}$, estimate the value of $\\varphi$.\n",
    "\n",
    "A few important details need to be clarified in this problem statement, namely, how $U$ and $|\\Psi\\rangle$ are specified. We assume that $U$ is given as a quantum circuit implementing $U$, and in fact, we assume we have the ability to efficiently implement the operations *controlled*-$U^{2^t}$ for positive integers $t$.\n",
    "This is the same assumption used in the original QPE algorithm.\n",
    "The eigenstate is also given as a quantum circuit: we assume we have the ability to efficiently prepare $|\\Psi\\rangle$.\n",
    "\n",
    "Let's first assume for simplicity that $\\varphi$ can have an exact binary expansion, that is, it can be written as\n",
    "$$\n",
    "\\varphi = \\varphi_1/2 + \\varphi_2/4 + \\cdots + \\varphi_m/2^m = 0.\\varphi_1 \\varphi_2 \\cdots \\varphi_m\n",
    "$$\n",
    "where in the final equality we are using \"decimal\" point notation in base 2.\n",
    "For simplicity, suppose $U$ is a unitary operator acting on one qubit (everything we say here also applies to the case where $U$ acts on multiple qubits). Since IPE requires an auxiliary qubit, we need a system of two qubits, $q_0$ and $q_1$, where $q_0$ is the auxiliary qubit and $q_1$ represents the physical system on which $U$ operates.\n",
    "\n",
    "Now, suppose that we initialize $q_0$ in the state $|+\\rangle = \\frac{|0\\rangle + |1\\rangle}{\\sqrt{2}}$ and $q_1$ in the state $|\\Psi \\rangle$.\n",
    "What happens if we apply the *controlled*-$U^{2^t}$ gate, with $q_0$ being the control and $q_1$ being the target?\n",
    "Since $|\\Psi \\rangle$ is an eigenstate of $U$ with eigenvalue $e^{i 2\\pi \\varphi}$, we have\n",
    "$$\n",
    "\\begin{align}\n",
    "|+\\rangle |\\Psi \\rangle &= \\left(\\frac{|0\\rangle + |1\\rangle}{\\sqrt{2}}\\right) |\\Psi \\rangle \\\\\n",
    "&= \\frac{|0\\rangle |\\Psi \\rangle + |1\\rangle |\\Psi \\rangle}{\\sqrt{2}} \\\\\n",
    "&\\xrightarrow{\\text{controlled-}U^{2^t}} \\frac{|0\\rangle |\\Psi \\rangle + e^{i 2 \\pi 2^{t} \\varphi} |1\\rangle |\\Psi \\rangle}{\\sqrt{2}} \\\\\n",
    "&= \\left(\\frac{|0\\rangle  + e^{i 2 \\pi 2^{t} \\varphi} |1\\rangle}{\\sqrt{2}}\\right) |\\Psi \\rangle.\n",
    "\\end{align}\n",
    "$$\n",
    "That is, the state of the system qubit remains unchanged, while a phase of $e^{i 2 \\pi 2^{t} \\varphi}$ has been \"kicked back\" into the state of the auxiliary qubit.\n",
    "\n",
    "Now, note that\n",
    "$$\n",
    "e^{i 2 \\pi 2^{t} \\varphi} = e^{i 2 \\pi 2^{t} (0.\\varphi_1 \\varphi_2 \\cdots \\varphi_m)}\n",
    "= e^{i 2 \\pi (\\varphi_1 \\cdots \\varphi_t . \\varphi_{t + 1} \\cdots \\varphi_m)}\n",
    "= e^{i 2 \\pi (0. \\varphi_{t + 1} \\cdots \\varphi_m)},\n",
    "$$\n",
    "where in the last equality, the whole number part of the \"decimal\" representation of the phase has disappeared because $e^{i 2\\pi n} = 1$ for any integer $n$.\n",
    "For example:\n",
    "- for $t=0$, the phase would be $e^{i 2 \\pi 2^{0} \\varphi} = e^{i 2 \\pi \\varphi} = e^{i 2 \\pi 0.\\varphi_1 \\varphi_2 ... \\varphi_m}$\n",
    "- for $t=1$, the phase would be $e^{i 2 \\pi 2^{1} \\varphi}= e^{i 2 \\pi \\varphi_1} e^{i 2 \\pi 0.\\varphi_2 \\varphi_3 ... \\varphi_m} = e^{i 2 \\pi 0.\\varphi_2 \\varphi_3 ... \\varphi_m}$\n",
    "- for $t=2$, the phase would be $e^{i 2 \\pi 2^{2} \\varphi} = e^{i 2 \\pi 0.\\varphi_3 \\varphi_4 ... \\varphi_m}$\n",
    "- for $t=m-1$, the phase would be $e^{i 2 \\pi 2^{m-1} \\varphi} = e^{i 2 \\pi 0.\\varphi_m}$.\n",
    "\n",
    "In the last case where $t = m - 1$, the phase is $e^{i 2 \\pi 0.\\varphi_m}$, which is equal to $1$ if $\\varphi_m = 0$ and $-1$ if $\\varphi_m = 1$.\n",
    "In the first case, the auxiliary qubit $q_0$ would be in the state $|+\\rangle = \\frac{|0\\rangle + |1\\rangle}{\\sqrt{2}}$, and in the second case it would be\n",
    "in the state $|-\\rangle = \\frac{|0\\rangle - |1\\rangle}{\\sqrt{2}}$. Therefore, measuring the qubit in the Pauli $X$ basis would distinguish these cases with a 100\\% success rate.\n",
    "This is done by performing a Hadamard gate on the qubit before measuring it. In the first case we would measure 0 and in the second case we would measure 1;\n",
    "in other words, the measured bit would be equal to $\\varphi_m$.\n",
    "\n",
    "### The algorithm\n",
    "\n",
    "In the first step of the IPE algorithm, we directly measure the least significant bit of the phase $\\varphi$, $\\varphi_m$, by initializing the 2-qubit registers as described above ( $q_0 \\rightarrow |+\\rangle$ and $q_1 \\rightarrow |\\Psi \\rangle$ ), performing a *controlled*-$U^{2^{m-1}}$ operation, and measuring $q_0$ in the Pauli $X$ basis.\n",
    "\n",
    "In the second step, we initialize the systems in the same way and apply a *controlled*-$U^{2^{m-2}}$ operation. The relative phase in $q_0$ after these operations is now $e^{i 2 \\pi 0.\\varphi_{m-1}\\varphi_{m}}= e^{i 2 \\pi 0.\\varphi_{m-1}} e^{i 2 \\pi \\varphi_m/4}$. \n",
    "To extract the phase bit $\\varphi_{m-1}$, first perform a phase correction by rotating around the $Z$-axis by an angle $-2 \\pi \\varphi_m/4=-\\pi \\varphi_m/2$, which results in the state of  $q_0$ to be $|0\\rangle + e^{i 2 \\pi 0.\\varphi_{m-1}} | 1 \\rangle$. Perform a measurement on $q_0$ in the Pauli $X$ basis to obtain the phase bit $\\varphi_{m-1}$. \n",
    "\n",
    "Therefore, the $k$-th step of the IPE, getting $\\varphi_{m-k+1}$, consists of the register initialization ($q_0$ in $|+\\rangle$, $q_1$ in $|\\Psi\\rangle$), the application of a *controlled*-$U^{2^{m-k}}$, a rotation around $Z$ of angle $\\omega_k = -2 \\pi 0.0\\varphi_{m-k+2} ... \\varphi_m$, and a measurement of $q_0$ in the Pauli $X$ basis: a Hadamard transform to $q_0$, and a measurement of $q_0$ in the computational basis. Note that $q_1$ remains in the state $|\\Psi\\rangle$ throughout the algorithm."
   ]
  },
  {
   "cell_type": "markdown",
   "metadata": {},
   "source": [
    "## Implementation\n",
    "\n",
    "In this lab, we will perform IPE on the single-qubit $S$-gate. The $S$ gate is given by the matrix\n",
    "\n",
    "$$ S =\n",
    "\\begin{pmatrix}\n",
    "1 & 0\\\\\n",
    "0 & e^{i\\pi / 2}\n",
    "\\end{pmatrix}$$\n",
    "\n",
    "We will use the eigenstate $|\\Psi\\rangle = |1\\rangle$, which has eigenvalue $e^{i\\pi / 2}= e^{i2\\pi \\cdot 1/4}$. So we have $\\varphi = 1/4 = 0.01 = 0.\\varphi_1 \\varphi_2$. Since $\\varphi$ can be represented exactly with 2 bits, our quantum circuit implementation will use a classical register with two bits to store the result.\n",
    "\n",
    "The controlled-$S$ gate can be implemented using the controlled phase gate, available in IBM's Qiskit as `CPhaseGate`, which can also be applied by calling the `cp` method of a `QuantumCircuit`. The controlled phase gate is parameterized by an angle $\\theta$ and has the matrix\n",
    "$$\n",
    "        \\text{CPhase}(\\theta) =\n",
    "            \\begin{pmatrix}\n",
    "                1 & 0 & 0 & 0 \\\\\n",
    "                0 & 1 & 0 & 0 \\\\\n",
    "                0 & 0 & 1 & 0 \\\\\n",
    "                0 & 0 & 0 & e^{i\\theta}\n",
    "            \\end{pmatrix}\n",
    "$$"
   ]
  },
  {
   "cell_type": "markdown",
   "metadata": {},
   "source": [
    "<div class=\"alert alert-block alert-success\"> Ex. 1 - Measure the least significant bit of the phase $\\varphi$, i.e., the bit of ${\\varphi}_{1}$. </div>"
   ]
  },
  {
   "cell_type": "markdown",
   "metadata": {},
   "source": [
    "\n",
    "### Step 1\n",
    "\n",
    "In the first step of the algorithm, we measure the least significant bit of $\\varphi$.\n",
    "\n",
    "#### Exercise 1\n",
    "\n",
    "Obtain the least significant bit of $\\varphi$ by performing the following steps:\n",
    "<br>\n",
    "1. Initialize the qubits:\n",
    "   - Apply a Hadamard on the auxiliary qubit;\n",
    "   - Apply an X gate on the system qubit to put it in the $|1\\rangle$ state.\n",
    "<br>\n",
    "<br>\n",
    "2. Apply a *controlled*-$S^{2}$ gate by applying a `CPhaseGate` with the appropriate angle.\n",
    "<br>\n",
    "<br>\n",
    "3. Measure the auxiliary qubit in the $X$ basis:\n",
    "   - Apply a Hadamard gate on the auxiliary qubit;\n",
    "   - Measure it in the computational basis.\n",
    "<br>\n",
    "<br>\n",
    "\n",
    "The resulting circuit should look something like this:\n",
    "\n",
    "![step-1-circuit](resources/step-1-circuit.png)"
   ]
  },
  {
   "cell_type": "code",
   "execution_count": 1,
   "metadata": {},
   "outputs": [
    {
     "data": {
      "image/png": "[encoded data removed]",
      "text/plain": [
       "<Figure size 454.517x284.278 with 1 Axes>"
      ]
     },
     "execution_count": 1,
     "metadata": {},
     "output_type": "execute_result"
    }
   ],
   "source": [
    "# import the quantum circuit, quantum register, and classical register\n",
    "# from the IBM's Qiskit library\n",
    "from qiskit import QuantumCircuit, QuantumRegister, ClassicalRegister\n",
    "\n",
    "# import the numpy library\n",
    "import numpy as np\n",
    "\n",
    "\n",
    "# define the function to generate the quantum circuit\n",
    "# for the 1st step of the Iterative Phase Estimation (IPE) of the S gate\n",
    "def step_1_circuit(qr: QuantumRegister, cr: ClassicalRegister) -> QuantumCircuit:\n",
    "  \n",
    "    # notes:\n",
    "    # - qr is a quantum register with 2 qubits\n",
    "    # - cr is a classical register with 2 bits\n",
    "\n",
    "    # create a quantum circuit with the quantum register and with\n",
    "    # the classical register defined before, to implement\n",
    "    # the 1st step of the Iterative Phase Estimation (IPE) of the S gate\n",
    "    qc = QuantumCircuit(qr, cr)\n",
    "\n",
    "    \n",
    "    ####### your code goes here #######\n",
    "    \n",
    "    # apply the Hadamard gate to the 1st qubit (system's qubit)\n",
    "    qc.h(0)\n",
    "    \n",
    "    # apply the Pauli-X gate to the 1st qubit (auxiliary qubit)\n",
    "    qc.x(1)\n",
    "    \n",
    "    \n",
    "    # apply the Controlled-Phase gate for the theta angle equal to pi,\n",
    "    # with control on the 1st qubit and target on the 2nd qubit\n",
    "    qc.cp( np.pi, 0, 1 )\n",
    "    \n",
    "    \n",
    "    # apply the Hadamard gate to the 1st qubit (system's qubit)\n",
    "    qc.h(0)\n",
    "    \n",
    "    \n",
    "    # measure the state of the 1st qubit (system's qubit),\n",
    "    # storing the classical outcome on the 1st bit of\n",
    "    # the classical register\n",
    "    qc.measure(0, 0)\n",
    "    \n",
    "    \n",
    "    # return the quantum circuit\n",
    "    # for the Iterative Phase Estimation (IPE) of the S gate\n",
    "    return qc\n",
    "\n",
    "\n",
    "# create the quantum register for\n",
    "# the quantum circuit to implement the 1st step of\n",
    "# the Iterative Phase Estimation (IPE) of the S gate\n",
    "qr = QuantumRegister(2, \"q\")\n",
    "\n",
    "# create the classical register for\n",
    "# the quantum circuit to implement the 1st step of\n",
    "# the Iterative Phase Estimation (IPE) of the S gate\n",
    "cr = ClassicalRegister(2, \"c\")\n",
    "\n",
    "\n",
    "# create the quantum circuit to implement the 1st step of\n",
    "# the Iterative Phase Estimation (IPE) of\n",
    "# the S gate, with the quantum register\n",
    "# and the classical register defined before\n",
    "qc = QuantumCircuit(qr, cr)\n",
    "\n",
    "\n",
    "# create the quantum circuit implementing the 1st step of\n",
    "# the Iterative Phase Estimation (IPE) of the S gate\n",
    "qc = step_1_circuit(qr, cr)\n",
    "\n",
    "\n",
    "# draw the quantum circuit implementing the 1st step of\n",
    "# the Iterative Phase Estimation (IPE) of the S gate\n",
    "qc.draw(\"mpl\")"
   ]
  },
  {
   "cell_type": "code",
   "execution_count": 2,
   "metadata": {},
   "outputs": [
    {
     "name": "stdout",
     "output_type": "stream",
     "text": [
      "Submitting your answer. Please wait...\n",
      "Congratulations 🎉! Your answer is correct and has been submitted.\n"
     ]
    }
   ],
   "source": [
    "# submit your circuit\n",
    "\n",
    "# import the grader for the exercise 1 of the lab 4\n",
    "from qc_grader.challenges.qgss_2023 import grade_lab4_ex1\n",
    "\n",
    "# grade the exercise 1 of the lab 4\n",
    "grade_lab4_ex1( qc )"
   ]
  },
  {
   "cell_type": "markdown",
   "metadata": {},
   "source": [
    "<div class=\"alert alert-block alert-success\"> Ex. 2 - Measure the next least significant bit of the phase $\\varphi$, i.e., the bit of ${\\varphi}_{2}$. </div>"
   ]
  },
  {
   "cell_type": "markdown",
   "metadata": {},
   "source": [
    "### Step 2\n",
    "\n",
    "In the first step, we measured the least significant bit $\\varphi_2$. In the second (and final) step, we extract the next bit $\\varphi_1$, which will involve applying a phase correction to cancel out the phase contribution from $\\varphi_2$. The phase correction depends on the value of the classical register holding $\\varphi_2$. We need dynamic circuits to perform this classical feedback! The phase correction can be applied using `PhaseGate` or by directly calling the `p` method of a QuantumCircuit.\n",
    "\n",
    "#### Exercise 2\n",
    "\n",
    "In this exercise, we begin with the circuit from Step 1, which you should have constructed in Exercise 1.\n",
    "\n",
    "Obtain the next bit of $\\varphi$ by performing the following steps:\n",
    "1. Reset and re-initialize the auxiliary qubit;\n",
    "2. Apply the controlled unitary gate;\n",
    "3. Measure the auxiliary qubit in the $X$ basis.\n",
    "\n",
    "Here and in the rest of the lab, please use the [`QuantumCircuit.if_else`](https://qiskit.org/documentation/stubs/qiskit.circuit.QuantumCircuit.if_else.html) method to apply operations controlled on classical measurement results.\n",
    "\n",
    "The resulting circuit should look something like the one in the drawing below. Note that in the drawing, the instructions inside the `if_else` instruction are not shown. Therefore, even if your circuit looks the same as the drawing, it may still be different.\n",
    "\n",
    "![step-2-circuit](resources/step-2-circuit.png)"
   ]
  },
  {
   "cell_type": "code",
   "execution_count": 3,
   "metadata": {},
   "outputs": [
    {
     "data": {
      "image/png": "[encoded data removed]",
      "text/plain": [
       "<Figure size 1123.41x367.889 with 1 Axes>"
      ]
     },
     "execution_count": 3,
     "metadata": {},
     "output_type": "execute_result"
    }
   ],
   "source": [
    "# define the function to generate the quantum circuit\n",
    "# for the 2nd step of the Iterative Phase Estimation (IPE) of the S gate\n",
    "def step_2_circuit(qr: QuantumRegister, cr: ClassicalRegister) -> QuantumCircuit:\n",
    "  \n",
    "    # notes:\n",
    "    # - qr is a quantum register with 2 qubits\n",
    "    # - cr is a classical register with 2 bits\n",
    "\n",
    "    # retrieve the quantum circuit implementing the 1st step of\n",
    "    # the Iterative Phase Estimation (IPE) of the S gate\n",
    "    qc = step_1_circuit(qr, cr)\n",
    "\n",
    "    \n",
    "    ####### your code goes here #######\n",
    "    \n",
    "    # reset the state of the 1st qubit (system's qubit)\n",
    "    qc.reset(0)\n",
    "    \n",
    "    # apply the Hadamard gate to the 1st qubit (system's qubit)\n",
    "    qc.h(0)\n",
    "    \n",
    "    \n",
    "    # if the 1st bit of the classical register of\n",
    "    # the dynamic quantum circuit has the classical state 1\n",
    "    with qc.if_test( ( cr[0], True ) ):\n",
    "    \n",
    "        # apply the phase correction of -pi / 2 to\n",
    "        # the 1st qubit of the quantum register with a P gate    \n",
    "        qc.p( -np.pi / 2, 0 )\n",
    "    \n",
    "    \n",
    "    # apply the Controlled-Phase gate for the theta angle equal to pi / 2,\n",
    "    # with control on the 1st qubit and target on the 2nd qubit\n",
    "    qc.cp( np.pi / 2, 0, 1 )\n",
    "    \n",
    "    \n",
    "    # apply the Hadamard gate to the 1st qubit (system's qubit)\n",
    "    qc.h(0)\n",
    "    \n",
    "    \n",
    "    # measure the state of the 1st qubit (system's qubit),\n",
    "    # storing the classical outcome on the 2nd bit of\n",
    "    # the classical register\n",
    "    qc.measure(0, 1)\n",
    "    \n",
    "    \n",
    "    # return the quantum circuit implementing the 2nd step of\n",
    "    # the Iterative Phase Estimation (IPE) of the S gate\n",
    "    return qc\n",
    "\n",
    "\n",
    "# create the quantum register for\n",
    "# the quantum circuit to implement the 2nd step of\n",
    "# the Iterative Phase Estimation (IPE) of the S gate\n",
    "qr = QuantumRegister(2, \"q\")\n",
    "\n",
    "# create the classical register for\n",
    "# the quantum circuit to implement the 2nd step of\n",
    "# the Iterative Phase Estimation (IPE) of the S gate\n",
    "cr = ClassicalRegister(2, \"c\")\n",
    "\n",
    "\n",
    "# create the quantum circuit to implement the 2nd step of\n",
    "# the Iterative Phase Estimation (IPE) of\n",
    "# the S gate, with the quantum register\n",
    "# and the classical register defined before\n",
    "qc = QuantumCircuit(qr, cr)\n",
    "\n",
    "\n",
    "# create the quantum circuit implementing the 2nd step of\n",
    "# the Iterative Phase Estimation (IPE) of the S gate\n",
    "qc = step_2_circuit(qr, cr)\n",
    "\n",
    "\n",
    "# draw the quantum circuit implementing the 2nd step of\n",
    "# the Iterative Phase Estimation (IPE) of the S gate\n",
    "qc.draw(\"mpl\")"
   ]
  },
  {
   "cell_type": "code",
   "execution_count": 4,
   "metadata": {},
   "outputs": [
    {
     "name": "stdout",
     "output_type": "stream",
     "text": [
      "Submitting your answer. Please wait...\n",
      "Congratulations 🎉! Your answer is correct and has been submitted.\n"
     ]
    }
   ],
   "source": [
    "# submit your circuit\n",
    "\n",
    "# import the grader for the exercise 2 of the lab 4\n",
    "from qc_grader.challenges.qgss_2023 import grade_lab4_ex2\n",
    "\n",
    "# grade the exercise 2 of the lab 4\n",
    "grade_lab4_ex2( qc )"
   ]
  },
  {
   "cell_type": "markdown",
   "metadata": {},
   "source": [
    "## Run on simulator\n",
    "\n",
    "Now that we have the complete circuit, let's first run it on a local simulator."
   ]
  },
  {
   "cell_type": "code",
   "execution_count": 5,
   "metadata": {},
   "outputs": [
    {
     "data": {
      "text/plain": [
       "{'01': 1000}"
      ]
     },
     "execution_count": 5,
     "metadata": {},
     "output_type": "execute_result"
    }
   ],
   "source": [
    "# import the Aer Simulator from the IBM's Qiskit Aer module\n",
    "from qiskit_aer import AerSimulator\n",
    "\n",
    "\n",
    "# create an Aer Simulator object\n",
    "sim = AerSimulator()\n",
    "\n",
    "\n",
    "# create a job for the quantum circuit implementing\n",
    "# the IPE for the S gate, running the Aer Simulator\n",
    "job = sim.run(qc, shots=1000)\n",
    "\n",
    "\n",
    "# retrieve the result counts of the quantum simulation\n",
    "result = job.result()\n",
    "\n",
    "# retrieve the result counts of the quantum simulation\n",
    "counts = result.get_counts()\n",
    "\n",
    "\n",
    "# show the result counts of the quantum simulation\n",
    "counts"
   ]
  },
  {
   "cell_type": "markdown",
   "metadata": {},
   "source": [
    "If your circuit is correct, you should have gotten the bitstring `01` with 100% probability. This value corresponds to the phase written in binary as $\\varphi = 0.01 = 1/4$. Indeed, this is the correct phase!"
   ]
  },
  {
   "cell_type": "markdown",
   "metadata": {},
   "source": [
    "<div class=\"alert alert-block alert-success\"> Ex. 3 - Build a quantum circuit for Iterative Phase Estimation (IPE) for the $T$ gate. </div>"
   ]
  },
  {
   "cell_type": "markdown",
   "metadata": {},
   "source": [
    "### Exercise 3\n",
    "\n",
    "Construct an IPE circuit to estimate the phase of the T gate, whose matrix is given by\n",
    "\n",
    "$$ T =\n",
    "\\begin{pmatrix}\n",
    "1 & 0\\\\\n",
    "0 & e^{i\\pi / 4}\n",
    "\\end{pmatrix}$$\n",
    "\n",
    "How many bits are needed to represent the phase in this case?"
   ]
  },
  {
   "cell_type": "code",
   "execution_count": 6,
   "metadata": {},
   "outputs": [
    {
     "data": {
      "image/png": "[encoded data removed]",
      "text/plain": [
       "<Figure size 1792.29x451.5 with 1 Axes>"
      ]
     },
     "execution_count": 6,
     "metadata": {},
     "output_type": "execute_result"
    }
   ],
   "source": [
    "# import the quantum circuit, quantum register, and classical register\n",
    "# from the IBM's Qiskit library\n",
    "from qiskit import QuantumCircuit, QuantumRegister, ClassicalRegister\n",
    "\n",
    "# import the numpy library\n",
    "import numpy as np\n",
    "\n",
    "\n",
    "# define the function to generate the quantum circuit\n",
    "# for the Iterative Phase Estimation (IPE) of the T gate\n",
    "def t_gate_ipe_circuit( qr: QuantumRegister, cr: ClassicalRegister ) -> QuantumCircuit:\n",
    "  \n",
    "    # notes:\n",
    "    # - qr is a quantum register with 2 qubits\n",
    "    # - cr is a classical register with 3 bits\n",
    "\n",
    "    # create a quantum circuit with the quantum register and with\n",
    "    # the classical register defined before, to implement\n",
    "    # the Iterative Phase Estimation (IPE) of the T gate\n",
    "    qc = QuantumCircuit(qr, cr)\n",
    "\n",
    "    \n",
    "    ####### your code goes here #######\n",
    "    \n",
    "    # apply the Hadamard gate to the 1st qubit (system's qubit)\n",
    "    qc.h(0)\n",
    "    \n",
    "    # apply the Pauli-X gate to the 1st qubit (auxiliary qubit)\n",
    "    qc.x(1)\n",
    "    \n",
    "    \n",
    "    # apply the Controlled-Phase gate for the theta angle equal to pi,\n",
    "    # with control on the 1st qubit and target on the 2nd qubit\n",
    "    qc.cp( np.pi, 0, 1 )\n",
    "    \n",
    "    \n",
    "    # apply the Hadamard gate to the 1st qubit (system's qubit)\n",
    "    qc.h(0)\n",
    "    \n",
    "    \n",
    "    # measure the state of the 1st qubit (system's qubit),\n",
    "    # storing the classical outcome on the 1st bit of\n",
    "    # the classical register\n",
    "    qc.measure(0, 0)\n",
    "    \n",
    "    \n",
    "    # reset the state of the 1st qubit (system's qubit)\n",
    "    qc.reset(0)\n",
    "    \n",
    "    # apply the Hadamard gate to the 1st qubit (system's qubit)\n",
    "    qc.h(0)\n",
    "    \n",
    "    \n",
    "    # if the 1st bit of the classical register of\n",
    "    # the dynamic quantum circuit has the classical state 1\n",
    "    with qc.if_test( ( cr[0], True ) ):\n",
    "    \n",
    "        # apply the phase correction of -pi / 2 to\n",
    "        # the 1st qubit of the quantum register with a P gate    \n",
    "        qc.p( -np.pi / 2, 0 )\n",
    "    \n",
    "    \n",
    "    # apply the Controlled-Phase gate for the theta angle equal to pi / 2,\n",
    "    # with control on the 1st qubit and target on the 2nd qubit\n",
    "    qc.cp( np.pi / 2, 0, 1 )\n",
    "    \n",
    "    \n",
    "    # apply the Hadamard gate to the 1st qubit (system's qubit)\n",
    "    qc.h(0)\n",
    "    \n",
    "    \n",
    "    # measure the state of the 1st qubit (system's qubit),\n",
    "    # storing the classical outcome on the 2nd bit of\n",
    "    # the classical register\n",
    "    qc.measure(0, 1)\n",
    "    \n",
    "    \n",
    "    # reset the state of the 1st qubit (system's qubit)\n",
    "    qc.reset(0)\n",
    "    \n",
    "    # apply the Hadamard gate to the 1st qubit (system's qubit)\n",
    "    qc.h(0)\n",
    "\n",
    "    \n",
    "    # if the 1st bit of the classical register of\n",
    "    # the dynamic quantum circuit has the classical state 1\n",
    "    with qc.if_test( ( cr[0], True ) ):\n",
    "    \n",
    "        # apply the phase correction of -pi / 2 to\n",
    "        # the 1st qubit of the quantum register with a P gate   \n",
    "        qc.p(-np.pi / 4, 0)\n",
    "    \n",
    "    \n",
    "    # apply the Controlled-Phase gate for the theta angle equal to pi / ,\n",
    "    # with control on the 1st qubit and target on the 2nd qubit\n",
    "    qc.cp( np.pi / 4, 0, 1 )\n",
    "    \n",
    "    \n",
    "    # apply the Hadamard gate to the 1st qubit (system's qubit)\n",
    "    qc.h(0)\n",
    "    \n",
    "    \n",
    "    # measure the state of the 1st qubit (system's qubit),\n",
    "    # storing the classical outcome on the 3rd bit of\n",
    "    # the classical register\n",
    "    qc.measure(0, 2)\n",
    "    \n",
    "    \n",
    "    # return the quantum circuit\n",
    "    # for the Iterative Phase Estimation (IPE) of the T gate\n",
    "    return qc\n",
    "\n",
    "\n",
    "# create the quantum register for the quantum circuit to\n",
    "# implement the Iterative Phase Estimation (IPE) of the T gate\n",
    "qr = QuantumRegister(2, \"q\")\n",
    "\n",
    "# create the classical register for the quantum circuit to\n",
    "# implement the Iterative Phase Estimation (IPE) of the T gate\n",
    "cr = ClassicalRegister(3, \"c\")\n",
    "\n",
    "\n",
    "# create the quantum circuit to implement\n",
    "# the Iterative Phase Estimation (IPE) of\n",
    "# the T gate, with the quantum register\n",
    "# and the classical register defined before\n",
    "qc = QuantumCircuit(qr, cr)\n",
    "\n",
    "\n",
    "# create the quantum circuit implementing\n",
    "# the Iterative Phase Estimation (IPE) of the T gate\n",
    "qc = t_gate_ipe_circuit(qr, cr)\n",
    "\n",
    "\n",
    "# draw the quantum circuit implementing\n",
    "# the Iterative Phase Estimation (IPE) of the T gate\n",
    "qc.draw(\"mpl\")"
   ]
  },
  {
   "cell_type": "code",
   "execution_count": 7,
   "metadata": {},
   "outputs": [
    {
     "data": {
      "text/plain": [
       "{'001': 1000}"
      ]
     },
     "execution_count": 7,
     "metadata": {},
     "output_type": "execute_result"
    }
   ],
   "source": [
    "# import the Aer Simulator from the IBM's Qiskit Aer module\n",
    "from qiskit_aer import AerSimulator\n",
    "\n",
    "\n",
    "# create an Aer Simulator object\n",
    "sim = AerSimulator()\n",
    "\n",
    "\n",
    "# create a job for the quantum circuit implementing\n",
    "# the IPE for the T gate, running the Aer Simulator\n",
    "job = sim.run(qc, shots=1000)\n",
    "\n",
    "\n",
    "# retrieve the result counts of the quantum simulation\n",
    "result = job.result()\n",
    "\n",
    "# retrieve the result counts of the quantum simulation\n",
    "counts = result.get_counts()\n",
    "\n",
    "\n",
    "# show the result counts of the quantum simulation\n",
    "counts"
   ]
  },
  {
   "cell_type": "code",
   "execution_count": 8,
   "metadata": {},
   "outputs": [
    {
     "name": "stdout",
     "output_type": "stream",
     "text": [
      "Submitting your answer. Please wait...\n",
      "Congratulations 🎉! Your answer is correct and has been submitted.\n"
     ]
    }
   ],
   "source": [
    "# submit your circuit\n",
    "\n",
    "# import the grader for the exercise 3 of the lab 4\n",
    "from qc_grader.challenges.qgss_2023 import grade_lab4_ex3\n",
    "\n",
    "# grade the exercise 3 of the lab 4\n",
    "grade_lab4_ex3( qc )"
   ]
  },
  {
   "cell_type": "markdown",
   "metadata": {},
   "source": [
    "### When the phase does not have an exact binary expansion\n",
    "\n",
    "Let's consider the case when the phase does not have an exact binary expansion, for example, $\\varphi = 1/3$.\n",
    "In this case, the single-qubit gate has the unitary\n",
    "\n",
    "$$ U =\n",
    "\\begin{pmatrix}\n",
    "1 & 0\\\\\n",
    "0 & e^{i2\\pi / 3}\n",
    "\\end{pmatrix}\n",
    "$$\n",
    "\n",
    "The angle $\\varphi = 1/3$ does not have an exact finite binary expansion. In contrast, it has the infinite binary expansion\n",
    "\n",
    "$$\n",
    "1/3 = 0.010101\\ldots\n",
    "$$\n",
    "\n",
    "In practice we work with a fixed number of bits of precision, so our goal is to obtain the closest value that can be represented with those bits. In the following example, we will use two bits of precision. In this case, the closest value is $0.01 = 1/4$. Because this value does not represent the exact phase, there is some probability that we will obtain a different, less precise result.\n",
    "\n",
    "In the following code cells, we construct and simulate an IPE circuit to measure the phase of this gate."
   ]
  },
  {
   "cell_type": "code",
   "execution_count": 9,
   "metadata": {},
   "outputs": [
    {
     "data": {
      "image/png": "[encoded data removed]",
      "text/plain": [
       "<Figure size 1207.02x367.889 with 1 Axes>"
      ]
     },
     "execution_count": 9,
     "metadata": {},
     "output_type": "execute_result"
    }
   ],
   "source": [
    "# import the quantum circuit, quantum register, and classical register\n",
    "# from the IBM's Qiskit library\n",
    "from qiskit import QuantumCircuit, QuantumRegister, ClassicalRegister\n",
    "\n",
    "# import the numpy library\n",
    "import numpy as np\n",
    "\n",
    "\n",
    "# define the function to generate the quantum circuit\n",
    "# for the Iterative Phase Estimation (IPE) of an U gate\n",
    "def u_circuit(qr: QuantumRegister, cr: ClassicalRegister) -> QuantumCircuit:\n",
    "  \n",
    "    # notes:\n",
    "    # - qr is a quantum register with 2 qubits\n",
    "    # - cr is a classical register with 2 bits\n",
    "\n",
    "    # create a quantum circuit with the quantum register and with\n",
    "    # the classical register defined before, to implement\n",
    "    # the Iterative Phase Estimation (IPE) of the U gate\n",
    "    qc = QuantumCircuit(qr, cr)\n",
    "\n",
    "    # retrieve the two qubits of the quantum register\n",
    "    q0, q1 = qr\n",
    "\n",
    "    # retrieve the two bits of the classical register\n",
    "    c0, c1 = cr\n",
    "    \n",
    "    \n",
    "    ####### your code goes here #######\n",
    "    \n",
    "    # apply the Hadamard gate to the 1st qubit (system's qubit)\n",
    "    qc.h(q0)\n",
    "    \n",
    "    # apply the Pauli-X gate to the 1st qubit (auxiliary qubit)\n",
    "    qc.x(q1)\n",
    "    \n",
    "    \n",
    "    # define the theta angle of the U gate as 2 * pi / 3\n",
    "    u_angle = 2 * np.pi / 3\n",
    "    \n",
    "    # define the number of the current iteration for\n",
    "    # the Iterative Phase Estimation (IPE) of the U gate\n",
    "    k = 1\n",
    "    \n",
    "    \n",
    "    # define the theta angle of the Controlled-Phase gate,\n",
    "    # according to the current iteration of\n",
    "    # the Iterative Phase Estimation (IPE) of the U gate\n",
    "    cphase_angle = u_angle * 2**k\n",
    "    \n",
    "    \n",
    "    # apply the Controlled-Phase gate for the kth theta angle,\n",
    "    # with control on the 1st qubit and target on the 2nd qubit\n",
    "    qc.cp( cphase_angle, q0, q1 )\n",
    "    \n",
    "    \n",
    "    # apply the Hadamard gate to the 1st qubit (system's qubit)\n",
    "    qc.h(q0)\n",
    "    \n",
    "    \n",
    "    # measure the state of the 1st qubit (system's qubit),\n",
    "    # storing the classical outcome on the 1st bit of\n",
    "    # the classical register\n",
    "    qc.measure(q0, c0)\n",
    "    \n",
    "    \n",
    "    # reset the state of the 1st qubit (system's qubit)\n",
    "    qc.reset(q0)\n",
    "    \n",
    "    # apply the Hadamard gate to the 1st qubit (system's qubit)\n",
    "    qc.h(q0)\n",
    "\n",
    "        \n",
    "    # define the number of the current iteration for\n",
    "    # the Iterative Phase Estimation (IPE) of the U gate\n",
    "    k = 0\n",
    "    \n",
    "    # define the theta angle of the Controlled-Phase gate,\n",
    "    # according to the current iteration of\n",
    "    # the Iterative Phase Estimation (IPE) of the U gate\n",
    "    cphase_angle = u_angle * 2**k\n",
    "    \n",
    "    \n",
    "    # if the 1st bit of the classical register of\n",
    "    # the dynamic quantum circuit has the classical state 1\n",
    "    with qc.if_test( ( cr[0], True ) ):\n",
    "    \n",
    "        # apply the phase correction of the kth theta angle to\n",
    "        # the 1st qubit of the quantum register with a P gate   \n",
    "        qc.p( -cphase_angle, q0 )\n",
    "    \n",
    "    \n",
    "    # apply the Controlled-Phase gate for the kth theta angle,\n",
    "    # with control on the 1st qubit and target on the 2nd qubit\n",
    "    qc.cp( cphase_angle, q0, q1 )\n",
    "    \n",
    "    \n",
    "    # apply the Hadamard gate to the 1st qubit (system's qubit)\n",
    "    qc.h(q0)\n",
    "    \n",
    "    \n",
    "    # measure the state of the 1st qubit (system's qubit),\n",
    "    # storing the classical outcome on the 2nd bit of\n",
    "    # the classical register\n",
    "    qc.measure(q0, c1)\n",
    "\n",
    "    \n",
    "    # return the quantum circuit\n",
    "    # for the Iterative Phase Estimation (IPE) of an U gate\n",
    "    return qc\n",
    "\n",
    "\n",
    "\n",
    "# create the quantum register for the quantum circuit to\n",
    "# implement the Iterative Phase Estimation (IPE) of the U gate\n",
    "qr = QuantumRegister(2, \"q\")\n",
    "\n",
    "# create the classical register for the quantum circuit to\n",
    "# implement the Iterative Phase Estimation (IPE) of the U gate\n",
    "cr = ClassicalRegister(2, \"c\")\n",
    "\n",
    "\n",
    "# create the quantum circuit to implement\n",
    "# the Iterative Phase Estimation (IPE) of\n",
    "# the U gate, with the quantum register\n",
    "# and the classical register defined before\n",
    "qc = QuantumCircuit(qr, cr)\n",
    "\n",
    "\n",
    "# create the quantum circuit implementing\n",
    "# the Iterative Phase Estimation (IPE) of the U gate\n",
    "qc = u_circuit(qr, cr)\n",
    "\n",
    "\n",
    "# draw the quantum circuit implementing\n",
    "# the Iterative Phase Estimation (IPE) of the U gate\n",
    "qc.draw(\"mpl\")"
   ]
  },
  {
   "cell_type": "code",
   "execution_count": 10,
   "metadata": {},
   "outputs": [
    {
     "name": "stdout",
     "output_type": "stream",
     "text": [
      "{'10': 190, '00': 53, '01': 757}\n",
      "Success probability: 0.757\n"
     ]
    }
   ],
   "source": [
    "# import the Aer Simulator from the IBM's Qiskit Aer module\n",
    "from qiskit_aer import AerSimulator\n",
    "\n",
    "\n",
    "# create an Aer Simulator object\n",
    "sim = AerSimulator()\n",
    "\n",
    "\n",
    "# create a job for the quantum circuit implementing\n",
    "# the IPE for the U gate, running the Aer Simulator\n",
    "job = sim.run(qc, shots=1000)\n",
    "\n",
    "\n",
    "# retrieve the result counts of the quantum simulation\n",
    "result = job.result()\n",
    "\n",
    "# retrieve the result counts of the quantum simulation\n",
    "counts = result.get_counts()\n",
    "\n",
    "\n",
    "# print the result counts of the quantum simulation\n",
    "print(counts)\n",
    "\n",
    "\n",
    "# compute the success probability of the correct outcome\n",
    "success_probability = counts[\"01\"] / counts.shots()\n",
    "\n",
    "\n",
    "# print the success probability of the correct outcome\n",
    "print(f\"Success probability: {success_probability}\")"
   ]
  },
  {
   "cell_type": "markdown",
   "metadata": {},
   "source": [
    "As you can see, this time, we are not guaranteed to obtain the desired result. A natural question to ask is: How can we boost the success probability?\n",
    "\n",
    "One way that the algorithm fails is that the first measured bit is incorrect. In this case, the phase correction applied before measuring the second bit is also incorrect, causing the rest of the bits to be likely incorrect as well. A simple way to mitigate this problem is to repeat the measurement of the first few bits several times and take a majority vote to increase the likelihood that we measure the bit correctly. Implementing this procedure within a single circuit requires performing arithmetic on the measured outcomes. Due to a temporary limitation in IBM's Qiskit, it is currently not possible to perform arithmetic on measured bits and condition future circuit operations on the results. So, here we will measure each bit using separate circuits.\n",
    "\n",
    "The following code cells construct and simulate an IPE circuit for measuring just the first bit of the phase."
   ]
  },
  {
   "cell_type": "code",
   "execution_count": 11,
   "metadata": {},
   "outputs": [
    {
     "data": {
      "image/png": "[encoded data removed]",
      "text/plain": [
       "<Figure size 538.128x284.278 with 1 Axes>"
      ]
     },
     "execution_count": 11,
     "metadata": {},
     "output_type": "execute_result"
    }
   ],
   "source": [
    "# import the quantum circuit, quantum register, and classical register\n",
    "# from the IBM's Qiskit library\n",
    "from qiskit import QuantumCircuit, QuantumRegister, ClassicalRegister\n",
    "\n",
    "# import the numpy library\n",
    "import numpy as np\n",
    "\n",
    "\n",
    "# define the function to generate the quantum circuit\n",
    "# for the Iterative Phase Estimation (IPE) of an U gate\n",
    "def u_circuit(qr: QuantumRegister, cr: ClassicalRegister) -> QuantumCircuit:\n",
    "  \n",
    "    # notes:\n",
    "    # - qr is a quantum register with 2 qubits\n",
    "    # - cr is a classical register with 1 bit\n",
    "\n",
    "    # create a quantum circuit with the quantum register and with\n",
    "    # the classical register defined before, to implement\n",
    "    # the Iterative Phase Estimation (IPE) of the U gate\n",
    "    qc = QuantumCircuit(qr, cr)\n",
    "\n",
    "    # retrieve the two qubits of the quantum register\n",
    "    q0, q1 = qr\n",
    "\n",
    "    # retrieve bit of the classical register\n",
    "    c0 = cr\n",
    "    \n",
    "    \n",
    "    ####### your code goes here #######\n",
    "    \n",
    "    # apply the Hadamard gate to the 1st qubit (system's qubit)\n",
    "    qc.h(q0)\n",
    "    \n",
    "    # apply the Pauli-X gate to the 1st qubit (auxiliary qubit)\n",
    "    qc.x(q1)\n",
    "    \n",
    "    \n",
    "    # define the theta angle of the U gate as 2 * pi / 3\n",
    "    u_angle = 2 * np.pi / 3\n",
    "    \n",
    "    # define the number of the current iteration for\n",
    "    # the Iterative Phase Estimation (IPE) of the U gate\n",
    "    k = 1\n",
    "    \n",
    "    \n",
    "    # define the theta angle of the Controlled-Phase gate,\n",
    "    # according to the current iteration of\n",
    "    # the Iterative Phase Estimation (IPE) of the U gate\n",
    "    cphase_angle = u_angle * 2**k\n",
    "    \n",
    "    \n",
    "    # apply the Controlled-Phase gate for the kth theta angle,\n",
    "    # with control on the 1st qubit and target on the 2nd qubit\n",
    "    qc.cp( cphase_angle, q0, q1 )\n",
    "    \n",
    "    \n",
    "    # apply the Hadamard gate to the 1st qubit (system's qubit)\n",
    "    qc.h(q0)\n",
    "    \n",
    "    \n",
    "    # measure the state of the 1st qubit (system's qubit),\n",
    "    # storing the classical outcome on the 1st bit of\n",
    "    # the classical register\n",
    "    qc.measure(q0, c0)\n",
    "\n",
    "    \n",
    "    # return the quantum circuit\n",
    "    # for the Iterative Phase Estimation (IPE) of an U gate\n",
    "    return qc\n",
    "\n",
    "\n",
    "# create the quantum register for the quantum circuit to\n",
    "# implement the Iterative Phase Estimation (IPE) of the U gate\n",
    "qr = QuantumRegister(2, \"q\")\n",
    "\n",
    "# create the classical register for the quantum circuit to\n",
    "# implement the Iterative Phase Estimation (IPE) of the U gate\n",
    "cr = ClassicalRegister(1, \"c\")\n",
    "\n",
    "\n",
    "# create the quantum circuit to implement\n",
    "# the Iterative Phase Estimation (IPE) of\n",
    "# the U gate, with the quantum register\n",
    "# and the classical register defined before\n",
    "qc = QuantumCircuit(qr, cr)\n",
    "\n",
    "\n",
    "# create the quantum circuit implementing\n",
    "# the Iterative Phase Estimation (IPE) of the U gate\n",
    "qc = u_circuit(qr, cr)\n",
    "\n",
    "\n",
    "# draw the quantum circuit implementing\n",
    "# the Iterative Phase Estimation (IPE) of the U gate\n",
    "qc.draw(\"mpl\")"
   ]
  },
  {
   "cell_type": "code",
   "execution_count": 12,
   "metadata": {},
   "outputs": [
    {
     "name": "stdout",
     "output_type": "stream",
     "text": [
      "{'0': 7, '1': 8}\n"
     ]
    }
   ],
   "source": [
    "# create a job for the quantum circuit implementing\n",
    "# the IPE for the U gate, running the Aer Simulator\n",
    "job = sim.run(qc, shots=15)\n",
    "\n",
    "\n",
    "# retrieve the result counts of the quantum simulation\n",
    "result = job.result()\n",
    "\n",
    "# retrieve the result counts of the quantum simulation\n",
    "counts = result.get_counts()\n",
    "\n",
    "\n",
    "# print the result counts of the quantum simulation\n",
    "print(counts)"
   ]
  },
  {
   "cell_type": "markdown",
   "metadata": {},
   "source": [
    "Hopefully, the correct bit was measured more often than not."
   ]
  },
  {
   "cell_type": "markdown",
   "metadata": {
    "tags": []
   },
   "source": [
    "<div class=\"alert alert-block alert-success\"> Ex. 4 - Determine the value for the bit of the step 1 of the quantum circuit, i.e., ${\\varphi}_{1}$, for a Iterative Phase Estimation (IPE) of the phase $\\varphi = 1/3$. </div>"
   ]
  },
  {
   "cell_type": "markdown",
   "metadata": {},
   "source": [
    "### Exercise 4\n",
    "\n",
    "Examine the counts dictionary from the output of the last code cell. What is the correct value for the first bit? Was it measured more often than not? If not, rerun the last code cell until it is. Then, write some code in the code cell below that sets the variable `step1_bit` equal to the value of the bit that was measured the majority of the time."
   ]
  },
  {
   "cell_type": "code",
   "execution_count": 13,
   "metadata": {},
   "outputs": [
    {
     "name": "stdout",
     "output_type": "stream",
     "text": [
      "1\n"
     ]
    }
   ],
   "source": [
    "# define the variable for\n",
    "# the bit resulting from the 1st step of\n",
    "# the Iterative Phase Estimation (IPE)\n",
    "step1_bit: int\n",
    "\n",
    "\n",
    "####### your code goes here #######\n",
    "\n",
    "# define the bit resulting from the 1st step of\n",
    "# the Iterative Phase Estimation (IPE)\n",
    "step1_bit = 1\n",
    "\n",
    "# print the bit resulting from the 1st step of\n",
    "# the Iterative Phase Estimation (IPE)\n",
    "print(step1_bit)"
   ]
  },
  {
   "cell_type": "code",
   "execution_count": 14,
   "metadata": {},
   "outputs": [
    {
     "name": "stdout",
     "output_type": "stream",
     "text": [
      "Submitting your answer. Please wait...\n",
      "Congratulations 🎉! Your answer is correct and has been submitted.\n"
     ]
    }
   ],
   "source": [
    "# submit your result\n",
    "\n",
    "# import the grader for the exercise 4 of the lab 4\n",
    "from qc_grader.challenges.qgss_2023 import grade_lab4_ex4\n",
    "\n",
    "# grade the exercise 4 of the lab 4\n",
    "grade_lab4_ex4( step1_bit )"
   ]
  },
  {
   "cell_type": "markdown",
   "metadata": {},
   "source": [
    "<div class=\"alert alert-block alert-success\"> Ex. 5 - Build a quantum circuit to measure the bit of the step 2, i.e., ${\\varphi}_{2}$, for the Iterative Phase Estimation (IPE) of the phase $\\varphi = 1/3$. </div>"
   ]
  },
  {
   "cell_type": "markdown",
   "metadata": {},
   "source": [
    "### Exercise 5\n",
    "\n",
    "Now construct the circuit to measure the second bit of the phase. Replace the first stage of the circuit with one which simply sets the auxiliary bit to the value we measured above, so that we always measure the correct value for the first bit of the phase."
   ]
  },
  {
   "cell_type": "code",
   "execution_count": 15,
   "metadata": {},
   "outputs": [
    {
     "data": {
      "image/png": "[encoded data removed]",
      "text/plain": [
       "<Figure size 621.739x367.889 with 1 Axes>"
      ]
     },
     "execution_count": 15,
     "metadata": {},
     "output_type": "execute_result"
    }
   ],
   "source": [
    "# import the quantum circuit, quantum register, and classical register\n",
    "# from the IBM's Qiskit library\n",
    "from qiskit import QuantumCircuit, QuantumRegister, ClassicalRegister\n",
    "\n",
    "# import the numpy library\n",
    "import numpy as np\n",
    "\n",
    "\n",
    "# define the function to generate the quantum circuit\n",
    "# for the Iterative Phase Estimation (IPE) of an U gate,\n",
    "# based on the classical bit obtained from the 1st step\n",
    "def u_circuit(qr: QuantumRegister, cr: ClassicalRegister) -> QuantumCircuit:\n",
    "    \n",
    "    # notes:\n",
    "    # - qr is a quantum register with 2 qubits\n",
    "    # - cr is a classical register with 1 bit\n",
    "\n",
    "    # create a quantum circuit with the quantum register and with\n",
    "    # the classical register defined before, to implement\n",
    "    # the Iterative Phase Estimation (IPE) of the U gate\n",
    "    qc = QuantumCircuit(qr, cr)\n",
    "\n",
    "    # retrieve the two qubits of the quantum register\n",
    "    q0, q1 = qr\n",
    "\n",
    "    # retrieve the two bit of the classical register\n",
    "    c0, c1 = cr\n",
    "    \n",
    "    \n",
    "    ####### your code goes here #######\n",
    "\n",
    "    # if the classical bit obtained from\n",
    "    # the 1st step is the classical state 1\n",
    "    with qc.if_test( ( step1_bit, True ) ):\n",
    "    \n",
    "        # apply the Pauli-X gate to the 1st qubit (system's qubit)\n",
    "        qc.x(q0)\n",
    "    \n",
    "    \n",
    "    # apply the Pauli-X gate to the 2nd qubit (auxiliary qubit)\n",
    "    qc.x(q1)\n",
    "    \n",
    "    \n",
    "    # define the theta angle of the U gate as pi / 3\n",
    "    u_angle = np.pi / 3\n",
    "    \n",
    "    \n",
    "    # define the number of the current iteration for\n",
    "    # the Iterative Phase Estimation (IPE) of the U gate\n",
    "    k = 1\n",
    "    \n",
    "    \n",
    "    # define the theta angle of the Controlled-Phase gate,\n",
    "    # according to the current iteration of\n",
    "    # the Iterative Phase Estimation (IPE) of the U gate\n",
    "    cphase_angle = u_angle * 2**k\n",
    "\n",
    "\n",
    "    # apply the Controlled-Phase gate for the kth theta angle,\n",
    "    # with control on the 1st qubit and target on the 2nd qubit\n",
    "    qc.cp( cphase_angle, q0, q1 )\n",
    "    \n",
    "\n",
    "    # measure the state of the 2nd qubit (auxiliary qubit),\n",
    "    # storing the classical outcome on the 1st bit of\n",
    "    # the classical register   \n",
    "    qc.measure(q1, c0)\n",
    "    \n",
    "    \n",
    "    # return the quantum circuit\n",
    "    # for the Iterative Phase Estimation (IPE) of an U gate,\n",
    "    # based on the classical bit obtained from the 1st step\n",
    "    return qc\n",
    "\n",
    "\n",
    "# create the quantum register for the quantum circuit to\n",
    "# implement the Iterative Phase Estimation (IPE) of the U gate,\n",
    "# based on the classical bit obtained from the 1st step\n",
    "qr = QuantumRegister(2, \"q\")\n",
    "\n",
    "# create the classical register for the quantum circuit to\n",
    "# implement the Iterative Phase Estimation (IPE) of the U gate,\n",
    "# based on the classical bit obtained from the 1st step\n",
    "cr = ClassicalRegister(2, \"c\")\n",
    "\n",
    "\n",
    "# create the quantum circuit to implement\n",
    "# the Iterative Phase Estimation (IPE) of\n",
    "# the U gate, based on the classical bit\n",
    "# obtained from the 1st step,\n",
    "# with the quantum register and\n",
    "# the classical register defined before\n",
    "qc = QuantumCircuit(qr, cr)\n",
    "\n",
    "\n",
    "# create the quantum circuit implementing\n",
    "# the Iterative Phase Estimation (IPE) of the U gate,\n",
    "# based on the classical bit obtained from the 1st step\n",
    "qc = u_circuit(qr, cr)\n",
    "\n",
    "\n",
    "# draw the quantum circuit implementing\n",
    "# the Iterative Phase Estimation (IPE) of the U gate,\n",
    "# based on the classical bit obtained from the 1st step\n",
    "qc.draw(\"mpl\")"
   ]
  },
  {
   "cell_type": "code",
   "execution_count": 16,
   "metadata": {},
   "outputs": [
    {
     "name": "stdout",
     "output_type": "stream",
     "text": [
      "Submitting your answer. Please wait...\n",
      "Congratulations 🎉! Your answer is correct and has been submitted.\n"
     ]
    }
   ],
   "source": [
    "# submit your result\n",
    "\n",
    "# import the grader for the exercise 5 of the lab 4\n",
    "from qc_grader.challenges.qgss_2023 import grade_lab4_ex5\n",
    "\n",
    "# grade the exercise 5 of the lab 4\n",
    "grade_lab4_ex5( qc )"
   ]
  },
  {
   "cell_type": "code",
   "execution_count": 17,
   "metadata": {},
   "outputs": [
    {
     "name": "stdout",
     "output_type": "stream",
     "text": [
      "{'01': 1000}\n",
      "Success probability: 1.0\n"
     ]
    }
   ],
   "source": [
    "# import the Aer Simulator from the IBM's Qiskit Aer module\n",
    "from qiskit_aer import AerSimulator\n",
    "\n",
    "\n",
    "# create an Aer Simulator object\n",
    "sim = AerSimulator()\n",
    "\n",
    "\n",
    "# create a job for the quantum circuit implementing\n",
    "# the IPE for the U gate, running the Aer Simulator\n",
    "job = sim.run(qc, shots=1000)\n",
    "\n",
    "\n",
    "# retrieve the result counts of the quantum simulation\n",
    "result = job.result()\n",
    "\n",
    "# retrieve the result counts of the quantum simulation\n",
    "counts = result.get_counts()\n",
    "\n",
    "\n",
    "# print the result counts of the quantum simulation\n",
    "print(counts)\n",
    "\n",
    "\n",
    "# compute the success probability of the correct outcome\n",
    "success_probability = counts[\"01\"] / counts.shots()\n",
    "\n",
    "\n",
    "# print the success probability of the correct outcome\n",
    "print(f\"Success probability: {success_probability}\")"
   ]
  },
  {
   "cell_type": "markdown",
   "metadata": {},
   "source": [
    "Now, the success probability is much higher than before!"
   ]
  },
  {
   "cell_type": "markdown",
   "metadata": {},
   "source": [
    "<div class=\"alert alert-block alert-success\"> Ex. 6 (ungraded) - Build a quantum circuit for a general Iterative Phase Estimation (IPE). </div>"
   ]
  },
  {
   "cell_type": "markdown",
   "metadata": {},
   "source": [
    "### Exercise 6 (ungraded)\n",
    "\n",
    "So far, the IPE circuits we constructed were designed for a specific gate and a specific number of bits of precision. Let's now generalize your code to implement a general IPE routine that can handle different gates and levels of precision.\n",
    "\n",
    "Complete the following function to implement a generalized IPE routine. It takes the following inputs:\n",
    "- `qr`: The quantum register. The first qubit is assumed to be the auxiliary qubit, and the rest of them the system qubits.\n",
    "- `cr`: The classical register. Its length indicates the desired number of bits of precision.\n",
    "- `controlled_unitaries`: A list of gates implementing *controlled*-$U^{2^t}$ for $t = 0, \\ldots, m-1$, where $m$ is the number of bits of precision.\n",
    "- `state_prep`: A gate used to initialize the state of the system qubits."
   ]
  },
  {
   "cell_type": "markdown",
   "metadata": {},
   "source": [
    "Let's build the quantum circuit for a general Iterative Phase Estimation (IPE) routine."
   ]
  },
  {
   "cell_type": "code",
   "execution_count": 18,
   "metadata": {},
   "outputs": [],
   "source": [
    "# import the Gate from the IBM's Qiskit Circuit module\n",
    "from qiskit.circuit import Gate\n",
    "\n",
    "\n",
    "# define the function to generate the dynamic quantum circuit\n",
    "# for a general Iterative Phase Estimation (IPE)\n",
    "def iterative_phase_estimation(\n",
    "    qr: QuantumRegister,\n",
    "    cr: ClassicalRegister,\n",
    "    controlled_unitaries: list[Gate],\n",
    "    state_prep: Gate,\n",
    ") -> QuantumCircuit:\n",
    "    qc = QuantumCircuit(qr, cr)\n",
    "\n",
    "    \n",
    "    ####### your code goes here #######\n",
    "    \n",
    "    # retrieve the number of the Controlled-U gates\n",
    "    m = len( controlled_unitaries )\n",
    "    \n",
    "    \n",
    "    # create a copy of the list of the Controlled-U gates\n",
    "    controlled_unitaries_reversed = controlled_unitaries.copy()\n",
    "\n",
    "    # retrieve the reverse list of the Controlled-U gates\n",
    "    controlled_unitaries_reversed.reverse()\n",
    "    \n",
    "    \n",
    "    # apply the Hadamard gate to the 1st qubit (system's qubit)\n",
    "    qc.h(0)\n",
    "    \n",
    "    \n",
    "    # initialize the preparation of the state\n",
    "    # with the eigenstate |1>\n",
    "    qc.append( state_prep, [1] )\n",
    "    \n",
    "    \n",
    "    # apply the Controlled-U gate for t = (m - 1)\n",
    "    qc.append( controlled_unitaries_reversed[0], [0, 1] )\n",
    "    \n",
    "    \n",
    "    # apply the Hadamard gate to the 1st qubit (system's qubit)\n",
    "    qc.h(0)\n",
    "    \n",
    "    \n",
    "    # measure the state of the 1st qubit (system's qubit),\n",
    "    # storing the classical outcome on the 1st bit\n",
    "    qc.measure(0, 0)\n",
    "   \n",
    "\n",
    "    # for the remaining (m - 1) iterations\n",
    "    for k in range(1, m):\n",
    "    \n",
    "        # reset the state of the 1st qubit (system's qubit)\n",
    "        qc.reset(0)\n",
    "\n",
    "        \n",
    "        # apply the Hadamard gate to the 1st qubit (system's qubit)\n",
    "        qc.h(0)\n",
    "\n",
    "        \n",
    "        # if the 1st bit of the classical register of\n",
    "        # the dynamic quantum circuit has the classical state 1\n",
    "        with qc.if_test( ( cr[0], 1 ) ):\n",
    "            \n",
    "            # apply the phase correction to the 1st qubit of\n",
    "            # the quantum register with a P gate\n",
    "            qc.p( -controlled_unitaries[ ( m - k - 1 ) ].params[0], 0 )\n",
    "\n",
    "        \n",
    "        # apply the Controlled-U gate for t = (m - k)\n",
    "        qc.append( controlled_unitaries_reversed[k], [0, 1] )\n",
    "\n",
    "        \n",
    "        # apply the Hadamard gate to the 1st qubit (system's qubit)\n",
    "        qc.h(0)\n",
    "\n",
    "        \n",
    "        # measure the state of the 1st qubit (system's qubit),\n",
    "        # storing the classical outcome on the kth bit\n",
    "        qc.measure(0, k)\n",
    "\n",
    "    \n",
    "    # return the dynamic quantum circuit\n",
    "    # for a general Iterative Phase Estimation (IPE)\n",
    "    return qc"
   ]
  },
  {
   "cell_type": "markdown",
   "metadata": {},
   "source": [
    "The example below shows how one would use this function to generate the IPE circuit for the $Z$ gate."
   ]
  },
  {
   "cell_type": "code",
   "execution_count": 19,
   "metadata": {
    "tags": []
   },
   "outputs": [
    {
     "data": {
      "text/plain": [
       "{'1': 1000}"
      ]
     },
     "execution_count": 19,
     "metadata": {},
     "output_type": "execute_result"
    }
   ],
   "source": [
    "# import the Controlled-Phase and Pauli-X gates\n",
    "# from the IBM's Qiskit Circuit Library module\n",
    "from qiskit.circuit.library import CPhaseGate, XGate\n",
    "\n",
    "\n",
    "# create the quantum register with two qubits\n",
    "# for the quantum circuit to implement IPE on the Z gate\n",
    "qr = QuantumRegister(2, \"q\")\n",
    "\n",
    "# create the quantum register with three bits\n",
    "# for the quantum circuit to implement IPE on the Z gate\n",
    "cr = ClassicalRegister(1, \"c\")\n",
    "\n",
    "\n",
    "# define the theta angle for the Z gate\n",
    "z_angle = np.pi\n",
    "\n",
    "\n",
    "# create the list of Controlled-U/Controlled-Phases gates,\n",
    "# considering the theta angle for the Z gate\n",
    "controlled_unitaries = [ CPhaseGate( z_angle * 2**k ) for k in range(1) ]\n",
    "\n",
    "\n",
    "# generate the quantum circuit implementing\n",
    "# the IPE for the Z gate\n",
    "qc = iterative_phase_estimation( qr, cr, controlled_unitaries, XGate() )\n",
    "\n",
    "\n",
    "# draw the quantum circuit implementing\n",
    "# the IPE for the Z gate\n",
    "qc.draw(\"mpl\")\n",
    "\n",
    "\n",
    "# create an Aer Simulator object\n",
    "sim = AerSimulator()\n",
    "\n",
    "\n",
    "# create a job for the quantum circuit implementing\n",
    "# the IPE for the Z gate, running the Aer Simulator\n",
    "job = sim.run(qc, shots=1000)\n",
    "\n",
    "\n",
    "# retrieve the result counts of the quantum simulation\n",
    "result = job.result()\n",
    "\n",
    "# retrieve the result counts of the quantum simulation\n",
    "counts = result.get_counts()\n",
    "\n",
    "\n",
    "# show the result counts of the quantum simulation\n",
    "counts"
   ]
  },
  {
   "cell_type": "markdown",
   "metadata": {},
   "source": [
    "The example below shows how one would use this function to generate the IPE circuit for the $S$ gate. The simulation results should match what you got above."
   ]
  },
  {
   "cell_type": "code",
   "execution_count": 20,
   "metadata": {},
   "outputs": [
    {
     "data": {
      "text/plain": [
       "{'01': 1000}"
      ]
     },
     "execution_count": 20,
     "metadata": {},
     "output_type": "execute_result"
    }
   ],
   "source": [
    "# import the Controlled-Phase and Pauli-X gates\n",
    "# from the IBM's Qiskit Circuit Library module\n",
    "from qiskit.circuit.library import CPhaseGate, XGate\n",
    "\n",
    "\n",
    "# create the quantum register with two qubits\n",
    "# for the quantum circuit to implement IPE on the S gate\n",
    "qr = QuantumRegister(2, \"q\")\n",
    "\n",
    "# create the quantum register with three bits\n",
    "# for the quantum circuit to implement IPE on the S gate\n",
    "cr = ClassicalRegister(2, \"c\")\n",
    "\n",
    "\n",
    "# define the theta angle for the S gate\n",
    "s_angle = np.pi / 2\n",
    "\n",
    "\n",
    "# create the list of Controlled-U/Controlled-Phase gates,\n",
    "# considering the theta angle for the S gate\n",
    "controlled_unitaries = [ CPhaseGate( s_angle * 2**k ) for k in range(2) ]\n",
    "\n",
    "\n",
    "# generate the quantum circuit implementing\n",
    "# the IPE for the S gate\n",
    "qc = iterative_phase_estimation( qr, cr, controlled_unitaries, XGate() )\n",
    "\n",
    "\n",
    "# draw the quantum circuit implementing\n",
    "# the IPE for the S gate\n",
    "qc.draw(\"mpl\")\n",
    "\n",
    "\n",
    "# create an Aer Simulator object\n",
    "sim = AerSimulator()\n",
    "\n",
    "\n",
    "# create a job for the quantum circuit implementing\n",
    "# the IPE for the S gate, running the Aer Simulator\n",
    "job = sim.run(qc, shots=1000)\n",
    "\n",
    "\n",
    "# retrieve the result counts of the quantum simulation\n",
    "result = job.result()\n",
    "\n",
    "# retrieve the result counts of the quantum simulation\n",
    "counts = result.get_counts()\n",
    "\n",
    "\n",
    "# show the result counts of the quantum simulation\n",
    "counts"
   ]
  },
  {
   "cell_type": "markdown",
   "metadata": {},
   "source": [
    "The example below shows how one would use this function to generate the IPE circuit for the $T$ gate. The simulation results should match what you got above."
   ]
  },
  {
   "cell_type": "code",
   "execution_count": 21,
   "metadata": {
    "tags": []
   },
   "outputs": [
    {
     "data": {
      "text/plain": [
       "{'001': 1000}"
      ]
     },
     "execution_count": 21,
     "metadata": {},
     "output_type": "execute_result"
    }
   ],
   "source": [
    "# import the Controlled-Phase and Pauli-X gates\n",
    "# from the IBM's Qiskit Circuit Library module\n",
    "from qiskit.circuit.library import CPhaseGate, XGate\n",
    "\n",
    "\n",
    "# create the quantum register with two qubits\n",
    "# for the quantum circuit to implement IPE on the T gate\n",
    "qr = QuantumRegister(2, \"q\")\n",
    "\n",
    "# create the quantum register with three bits\n",
    "# for the quantum circuit to implement IPE on the T gate\n",
    "cr = ClassicalRegister(3, \"c\")\n",
    "\n",
    "\n",
    "# define the theta angle for the T gate\n",
    "t_angle = np.pi / 4\n",
    "\n",
    "\n",
    "# create the list of Controlled-U/Controlled-Phase gates,\n",
    "# considering the theta angle for the T gate\n",
    "controlled_unitaries = [ CPhaseGate( t_angle * 2**k ) for k in range(3) ]\n",
    "\n",
    "\n",
    "# generate the quantum circuit implementing\n",
    "# the IPE for the T gate\n",
    "qc = iterative_phase_estimation( qr, cr, controlled_unitaries, XGate() )\n",
    "\n",
    "\n",
    "# draw the quantum circuit implementing\n",
    "# the IPE for the T gate\n",
    "qc.draw(\"mpl\")\n",
    "\n",
    "\n",
    "# create an Aer Simulator object\n",
    "sim = AerSimulator()\n",
    "\n",
    "\n",
    "# create a job for the quantum circuit implementing\n",
    "# the IPE for the T gate, running the Aer Simulator\n",
    "job = sim.run(qc, shots=1000)\n",
    "\n",
    "\n",
    "# retrieve the result counts of the quantum simulation\n",
    "result = job.result()\n",
    "\n",
    "# retrieve the result counts of the quantum simulation\n",
    "counts = result.get_counts()\n",
    "\n",
    "\n",
    "# show the result counts of the quantum simulation\n",
    "counts"
   ]
  },
  {
   "cell_type": "markdown",
   "metadata": {},
   "source": [
    "## Run on hardware\n",
    "\n",
    "In the final part of this lab, we will run some circuits on real hardware! The code cells below initialize and run the circuit you created in Exercise 2 to measure the phase of the $S$ gate. Because current quantum hardware suffers from noise, the results will not be as good as what you got on the simulator. Feel free to try running the other circuits you created in this lab, though be aware that larger circuits, like the one from Exercise 3 for measuring the phase of the $T$ gate, will suffer from even more noise."
   ]
  },
  {
   "cell_type": "code",
   "execution_count": 22,
   "metadata": {},
   "outputs": [],
   "source": [
    "# import the IBMps Provider from Qiskit IBM Provider module\n",
    "from qiskit_ibm_provider import IBMProvider\n",
    "\n",
    "# create an IBM's Provider object\n",
    "provider = IBMProvider()"
   ]
  },
  {
   "cell_type": "code",
   "execution_count": 23,
   "metadata": {},
   "outputs": [],
   "source": [
    "# define the hub for the IBM's Provider\n",
    "hub = \"summer-school-6\"\n",
    "\n",
    "# define the group for the IBM's Provider\n",
    "group = \"group-3\"\n",
    "\n",
    "# define the project for the IBM's Provider\n",
    "project = \"7048813929\"\n",
    "\n",
    "\n",
    "# define the backend's name for the IBM's Provider\n",
    "backend_name = \"ibmq_manila\"\n",
    "\n",
    "\n",
    "# retrieve the backend from the IBM's Provider\n",
    "backend = provider.get_backend( backend_name, instance=f\"{hub}/{group}/{project}\" )"
   ]
  },
  {
   "cell_type": "code",
   "execution_count": 24,
   "metadata": {},
   "outputs": [
    {
     "data": {
      "image/png": "[encoded data removed]",
      "text/plain": [
       "<Figure size 2255.74x618.722 with 1 Axes>"
      ]
     },
     "execution_count": 24,
     "metadata": {},
     "output_type": "execute_result"
    }
   ],
   "source": [
    "# import the transpile feature\n",
    "# from the IBM's Qiskit library\n",
    "from qiskit import transpile\n",
    "\n",
    "\n",
    "# create the quantum register with two qubits\n",
    "# for the quantum circuit to implement IPE on the S gate\n",
    "qr = QuantumRegister(2, \"q\")\n",
    "\n",
    "# create a classical register with two bits\n",
    "# for the quantum circuit to implement IPE on the S gate\n",
    "cr = ClassicalRegister(2, \"c\")\n",
    "\n",
    "\n",
    "# create the quantum circuit with\n",
    "# the quantum and classical registers\n",
    "# defined before to implement IPE on the S gate\n",
    "qc = QuantumCircuit(qr, cr)\n",
    "\n",
    "\n",
    "# perform the 2nd step of the IPE on the S gate to\n",
    "# the quantum circuit created before\n",
    "qc = step_2_circuit(qr, cr)\n",
    "\n",
    "# create the transpiled quantum circuit\n",
    "# to implement IPE on the S gate\n",
    "qc_transpiled = transpile(qc, backend)\n",
    "\n",
    "\n",
    "# draw the quantum circuit implementing\n",
    "# an IPE on the S gate\n",
    "qc_transpiled.draw(\"mpl\")"
   ]
  },
  {
   "cell_type": "code",
   "execution_count": 25,
   "metadata": {},
   "outputs": [],
   "source": [
    "# OPTIONAL: run the job of the IPE for the S gate\n",
    "\n",
    "# run the transpiled dynamic quantum circuit of\n",
    "# the IPE for the S gate\n",
    "#job = backend.run(qc_transpiled, shots=1000, dynamic=True)\n",
    "\n",
    "# retrieve the id of the job of the quantum simulation\n",
    "# for the IPE for the S gate\n",
    "#job_id = job.job_id()\n",
    "\n",
    "# print the id of the job of the quantum simulation\n",
    "# for the IPE for the S gate\n",
    "#print(job_id)"
   ]
  },
  {
   "cell_type": "code",
   "execution_count": 26,
   "metadata": {},
   "outputs": [],
   "source": [
    "# OPTIONAL: retrieve and show the job's status of the IPE for the S gate\n",
    "\n",
    "# retrieve the job of the quantum simulation\n",
    "# for the IPE for the S gate\n",
    "#retrieve_job = provider.retrieve_job(job_id)\n",
    "\n",
    "# show the job's status of the quantum simulation\n",
    "# for the IPE for the S gate\n",
    "#retrieve_job.status()"
   ]
  },
  {
   "cell_type": "code",
   "execution_count": 27,
   "metadata": {},
   "outputs": [],
   "source": [
    "# OPTIONAL: plot the histogram of the results of the IPE for the S gate\n",
    "\n",
    "# import the plot histogram from\n",
    "# the IBM's Qiskit Tools' Visualization module\n",
    "#from qiskit.tools.visualization import plot_histogram\n",
    "\n",
    "# retrieve the counts of the results of the job\n",
    "# for the quantum simulation for the IPE for the S gate\n",
    "#counts = retrieve_job.result().get_counts()\n",
    "\n",
    "# plot the historgram of the count results of\n",
    "# the quantum simulation for the IPE for the S gate\n",
    "#plot_histogram(counts)"
   ]
  },
  {
   "cell_type": "code",
   "execution_count": 28,
   "metadata": {
    "tags": []
   },
   "outputs": [
    {
     "data": {
      "text/html": [
       "<h3>Version Information</h3><table><tr><th>Qiskit Software</th><th>Version</th></tr><tr><td><code>qiskit-terra</code></td><td>0.24.1</td></tr><tr><td><code>qiskit-aer</code></td><td>0.12.1</td></tr><tr><td><code>qiskit-ibmq-provider</code></td><td>0.20.2</td></tr><tr><td><code>qiskit</code></td><td>0.43.2</td></tr><tr><td><code>qiskit-nature</code></td><td>0.6.2</td></tr><tr><td><code>qiskit-finance</code></td><td>0.3.4</td></tr><tr><td><code>qiskit-optimization</code></td><td>0.5.0</td></tr><tr><td><code>qiskit-machine-learning</code></td><td>0.6.1</td></tr><tr><th>System information</th></tr><tr><td>Python version</td><td>3.10.8</td></tr><tr><td>Python compiler</td><td>GCC 10.4.0</td></tr><tr><td>Python build</td><td>main, Nov 22 2022 08:26:04</td></tr><tr><td>OS</td><td>Linux</td></tr><tr><td>CPUs</td><td>8</td></tr><tr><td>Memory (Gb)</td><td>31.211322784423828</td></tr><tr><td colspan='2'>Wed Aug 02 15:24:38 2023 UTC</td></tr></table>"
      ],
      "text/plain": [
       "<IPython.core.display.HTML object>"
      ]
     },
     "metadata": {},
     "output_type": "display_data"
    }
   ],
   "source": [
    "# import the IBM's Qiskit Jupyter Tools\n",
    "import qiskit.tools.jupyter\n",
    "\n",
    "# show the table of the IBM's Qiskit version\n",
    "%qiskit_version_table"
   ]
  },
  {
   "cell_type": "markdown",
   "metadata": {
    "tags": []
   },
   "source": [
    "Congratulations! You've completed Lab 4 of the Global Summer School!! 🎉"
   ]
  },
  {
   "cell_type": "markdown",
   "metadata": {},
   "source": [
    "Made with ❤ by Rúben André Barreiro (and adapted from IBM Quantum)."
   ]
  }
 ],
 "metadata": {
  "kernelspec": {
   "display_name": "Python 3 (ipykernel)",
   "language": "python",
   "name": "python3"
  },
  "language_info": {
   "codemirror_mode": {
    "name": "ipython",
    "version": 3
   },
   "file_extension": ".py",
   "mimetype": "text/x-python",
   "name": "python",
   "nbconvert_exporter": "python",
   "pygments_lexer": "ipython3",
   "version": "3.10.8"
  },
  "vscode": {
   "interpreter": {
    "hash": "c2040b9df22fb8e6f552d9b589c97ff536ffe03a0da1ea2949f78b5a0e303bb6"
   }
  },
  "widgets": {
   "application/vnd.jupyter.widget-state+json": {
    "state": {
     "144ae26c0e9a46319ab03e0c8263c5cb": {
      "model_module": "@jupyter-widgets/controls",
      "model_module_version": "2.0.0",
      "model_name": "HTMLModel",
      "state": {
       "layout": "IPY_MODEL_250853245ff9450a889b79eed64000f9",
       "style": "IPY_MODEL_de5d1a4e7778477e93c647a9ee46e706",
       "value": "<h5>Backend</h5>"
      }
     },
     "1b7e01ab26a7474cac73624a234cdc5b": {
      "model_module": "@jupyter-widgets/controls",
      "model_module_version": "2.0.0",
      "model_name": "HTMLStyleModel",
      "state": {
       "description_width": "",
       "font_size": null,
       "text_color": null
      }
     },
     "1cd6f6d031044b10bfdceea781c59817": {
      "model_module": "@jupyter-widgets/base",
      "model_module_version": "2.0.0",
      "model_name": "LayoutModel",
      "state": {
       "grid_template_areas": "\n                                       \". . . . right \"\n                                        ",
       "grid_template_columns": "20% 20% 20% 20% 20%",
       "width": "100%"
      }
     },
     "21ba6738417d4c22a8b1b545ea65b078": {
      "model_module": "@jupyter-widgets/controls",
      "model_module_version": "2.0.0",
      "model_name": "HTMLStyleModel",
      "state": {
       "description_width": "",
       "font_size": null,
       "text_color": null
      }
     },
     "222636307b4c4253a7b59cefb51f40d6": {
      "model_module": "@jupyter-widgets/controls",
      "model_module_version": "2.0.0",
      "model_name": "HTMLModel",
      "state": {
       "layout": "IPY_MODEL_727a4331321a4ff09cc37d66a8f53523",
       "style": "IPY_MODEL_26f78f0de748495e9002d485a86ff42f",
       "value": "<h5>Job ID</h5>"
      }
     },
     "250853245ff9450a889b79eed64000f9": {
      "model_module": "@jupyter-widgets/base",
      "model_module_version": "2.0.0",
      "model_name": "LayoutModel",
      "state": {
       "width": "145px"
      }
     },
     "26f78f0de748495e9002d485a86ff42f": {
      "model_module": "@jupyter-widgets/controls",
      "model_module_version": "2.0.0",
      "model_name": "HTMLStyleModel",
      "state": {
       "description_width": "",
       "font_size": null,
       "text_color": null
      }
     },
     "388cf5adcc764a24aa1109d3b00f50f8": {
      "model_module": "@jupyter-widgets/controls",
      "model_module_version": "2.0.0",
      "model_name": "GridBoxModel",
      "state": {
       "children": [
        "IPY_MODEL_b6340ba88d5a49b69976b126d42ad6eb"
       ],
       "layout": "IPY_MODEL_1cd6f6d031044b10bfdceea781c59817"
      }
     },
     "3a6cb7f4770447f99be6f7d9c65a6572": {
      "model_module": "@jupyter-widgets/base",
      "model_module_version": "2.0.0",
      "model_name": "LayoutModel",
      "state": {}
     },
     "3e574070e3274fe5a4b88e0b88a61e15": {
      "model_module": "@jupyter-widgets/base",
      "model_module_version": "2.0.0",
      "model_name": "LayoutModel",
      "state": {
       "width": "95px"
      }
     },
     "5cb90d7e36db403cb5a773016fcfdf50": {
      "model_module": "@jupyter-widgets/controls",
      "model_module_version": "2.0.0",
      "model_name": "HTMLModel",
      "state": {
       "layout": "IPY_MODEL_a314b14c36c44b86806629ed24ce532a",
       "style": "IPY_MODEL_6e2ad41e709f4ff9adc14b62c1722be8",
       "value": "<h5>Queue</h5>"
      }
     },
     "62ff977ff0f44425b3114ca2829f11f6": {
      "model_module": "@jupyter-widgets/base",
      "model_module_version": "2.0.0",
      "model_name": "LayoutModel",
      "state": {
       "margin": "0px 0px 10px 0px"
      }
     },
     "6e2ad41e709f4ff9adc14b62c1722be8": {
      "model_module": "@jupyter-widgets/controls",
      "model_module_version": "2.0.0",
      "model_name": "HTMLStyleModel",
      "state": {
       "description_width": "",
       "font_size": null,
       "text_color": null
      }
     },
     "727a4331321a4ff09cc37d66a8f53523": {
      "model_module": "@jupyter-widgets/base",
      "model_module_version": "2.0.0",
      "model_name": "LayoutModel",
      "state": {
       "width": "190px"
      }
     },
     "95043da6620746d08eda12f75e134010": {
      "model_module": "@jupyter-widgets/controls",
      "model_module_version": "2.0.0",
      "model_name": "HBoxModel",
      "state": {
       "children": [
        "IPY_MODEL_222636307b4c4253a7b59cefb51f40d6",
        "IPY_MODEL_144ae26c0e9a46319ab03e0c8263c5cb",
        "IPY_MODEL_b7b748be5c694f7a9beace6857e4cc3b",
        "IPY_MODEL_5cb90d7e36db403cb5a773016fcfdf50",
        "IPY_MODEL_d684d258d89f48ca8f30e1be07ac3449"
       ],
       "layout": "IPY_MODEL_d1be4d1515274e73988a664624cca26f"
      }
     },
     "a314b14c36c44b86806629ed24ce532a": {
      "model_module": "@jupyter-widgets/base",
      "model_module_version": "2.0.0",
      "model_name": "LayoutModel",
      "state": {
       "width": "70px"
      }
     },
     "a5e904843e4440e79fa6b65586f622e4": {
      "model_module": "@jupyter-widgets/controls",
      "model_module_version": "2.0.0",
      "model_name": "HTMLModel",
      "state": {
       "layout": "IPY_MODEL_62ff977ff0f44425b3114ca2829f11f6",
       "style": "IPY_MODEL_de79d65b9e9e4e4cb7668ce008cfe65e",
       "value": "<p style='font-family: IBM Plex Sans, Arial, Helvetica, sans-serif; font-size: 20px; font-weight: medium;'>Circuit Properties</p>"
      }
     },
     "a9996cf653444529bc6ceb34a04125c1": {
      "model_module": "@jupyter-widgets/controls",
      "model_module_version": "2.0.0",
      "model_name": "ButtonStyleModel",
      "state": {
       "font_family": null,
       "font_size": null,
       "font_style": null,
       "font_variant": null,
       "font_weight": null,
       "text_color": null,
       "text_decoration": null
      }
     },
     "b6340ba88d5a49b69976b126d42ad6eb": {
      "model_module": "@jupyter-widgets/controls",
      "model_module_version": "2.0.0",
      "model_name": "ButtonModel",
      "state": {
       "button_style": "primary",
       "description": "Clear",
       "layout": "IPY_MODEL_e1fc7fd15cf046928b3dfefe3545ce4d",
       "style": "IPY_MODEL_a9996cf653444529bc6ceb34a04125c1",
       "tooltip": null
      }
     },
     "b7b748be5c694f7a9beace6857e4cc3b": {
      "model_module": "@jupyter-widgets/controls",
      "model_module_version": "2.0.0",
      "model_name": "HTMLModel",
      "state": {
       "layout": "IPY_MODEL_3e574070e3274fe5a4b88e0b88a61e15",
       "style": "IPY_MODEL_1b7e01ab26a7474cac73624a234cdc5b",
       "value": "<h5>Status</h5>"
      }
     },
     "d1be4d1515274e73988a664624cca26f": {
      "model_module": "@jupyter-widgets/base",
      "model_module_version": "2.0.0",
      "model_name": "LayoutModel",
      "state": {
       "margin": "0px 0px 0px 37px",
       "width": "600px"
      }
     },
     "d684d258d89f48ca8f30e1be07ac3449": {
      "model_module": "@jupyter-widgets/controls",
      "model_module_version": "2.0.0",
      "model_name": "HTMLModel",
      "state": {
       "layout": "IPY_MODEL_3a6cb7f4770447f99be6f7d9c65a6572",
       "style": "IPY_MODEL_21ba6738417d4c22a8b1b545ea65b078",
       "value": "<h5>Message</h5>"
      }
     },
     "de5d1a4e7778477e93c647a9ee46e706": {
      "model_module": "@jupyter-widgets/controls",
      "model_module_version": "2.0.0",
      "model_name": "HTMLStyleModel",
      "state": {
       "description_width": "",
       "font_size": null,
       "text_color": null
      }
     },
     "de79d65b9e9e4e4cb7668ce008cfe65e": {
      "model_module": "@jupyter-widgets/controls",
      "model_module_version": "2.0.0",
      "model_name": "HTMLStyleModel",
      "state": {
       "description_width": "",
       "font_size": null,
       "text_color": null
      }
     },
     "e1fc7fd15cf046928b3dfefe3545ce4d": {
      "model_module": "@jupyter-widgets/base",
      "model_module_version": "2.0.0",
      "model_name": "LayoutModel",
      "state": {
       "grid_area": "right",
       "padding": "0px 0px 0px 0px",
       "width": "70px"
      }
     }
    },
    "version_major": 2,
    "version_minor": 0
   }
  }
 },
 "nbformat": 4,
 "nbformat_minor": 4
}
